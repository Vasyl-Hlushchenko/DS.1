{
 "cells": [
  {
   "attachments": {},
   "cell_type": "markdown",
   "metadata": {},
   "source": [
    "Home work #1"
   ]
  },
  {
   "cell_type": "code",
   "execution_count": 2,
   "metadata": {},
   "outputs": [],
   "source": [
    "import numpy as np"
   ]
  },
  {
   "cell_type": "code",
   "execution_count": 3,
   "metadata": {},
   "outputs": [
    {
     "name": "stdout",
     "output_type": "stream",
     "text": [
      "[0 1 2 3 4 5 6 7 8 9]\n"
     ]
    }
   ],
   "source": [
    "#1\n",
    "a = np.arange(10)\n",
    "print(a)"
   ]
  },
  {
   "cell_type": "code",
   "execution_count": 4,
   "metadata": {},
   "outputs": [
    {
     "name": "stdout",
     "output_type": "stream",
     "text": [
      "[[0 0 0]\n",
      " [0 0 0]\n",
      " [0 0 0]]\n"
     ]
    }
   ],
   "source": [
    "#2\n",
    "a = np.zeros((3, 3), dtype=int)\n",
    "print(a)"
   ]
  },
  {
   "cell_type": "code",
   "execution_count": 5,
   "metadata": {},
   "outputs": [
    {
     "name": "stdout",
     "output_type": "stream",
     "text": [
      "[[ 6 10  3 10  7]\n",
      " [ 8  5  2  6  5]\n",
      " [10 10  3  1  6]\n",
      " [ 4 10  9  4 10]\n",
      " [ 6  7 10  7  7]]\n"
     ]
    }
   ],
   "source": [
    "#3\n",
    "a = np.random.randint(1, 11, size=(5, 5))\n",
    "print(a)"
   ]
  },
  {
   "cell_type": "code",
   "execution_count": 6,
   "metadata": {},
   "outputs": [
    {
     "name": "stdout",
     "output_type": "stream",
     "text": [
      "[[0.94865901 0.9343477  0.17056601 0.51719184]\n",
      " [0.84627734 0.66250001 0.85374035 0.39879517]\n",
      " [0.84702082 0.55872248 0.17462187 0.47512723]\n",
      " [0.64704025 0.18172311 0.60191032 0.10006006]]\n"
     ]
    }
   ],
   "source": [
    "#4\n",
    "a = np.random.uniform(low=0.0, high=1.0, size=(4, 4))\n",
    "print(a)"
   ]
  },
  {
   "cell_type": "code",
   "execution_count": 7,
   "metadata": {},
   "outputs": [
    {
     "name": "stdout",
     "output_type": "stream",
     "text": [
      "[12 13 17 11 16]\n",
      "[-2 -5  1  9 -4]\n",
      "[ 0.71428571  0.44444444  1.125      10.          0.6       ]\n"
     ]
    }
   ],
   "source": [
    "#5\n",
    "a = np.random.randint(1, 11, size=(5))\n",
    "b = np.random.randint(1, 11, size=(5))\n",
    "print(a+b)\n",
    "print(a-b)\n",
    "print(a/b)"
   ]
  },
  {
   "cell_type": "code",
   "execution_count": 8,
   "metadata": {},
   "outputs": [
    {
     "name": "stdout",
     "output_type": "stream",
     "text": [
      "1.8509112784197437\n"
     ]
    }
   ],
   "source": [
    "#6\n",
    "a = np.random.random(7)\n",
    "b = np.random.random(7)\n",
    "print(np.dot(a, b))"
   ]
  },
  {
   "cell_type": "code",
   "execution_count": 9,
   "metadata": {},
   "outputs": [
    {
     "name": "stdout",
     "output_type": "stream",
     "text": [
      "[[113 115  75]\n",
      " [ 76  84  52]]\n"
     ]
    }
   ],
   "source": [
    "#7\n",
    "a = np.random.randint(1, 11, size=(2, 2))\n",
    "b = np.random.randint(1, 11, size=(2, 3))\n",
    "print(np.dot(a, b))"
   ]
  },
  {
   "cell_type": "code",
   "execution_count": 10,
   "metadata": {},
   "outputs": [
    {
     "name": "stdout",
     "output_type": "stream",
     "text": [
      "[[ 3 10  2]\n",
      " [ 7  7  2]\n",
      " [ 6  4  7]]\n",
      "[[-0.14909091  0.22545455 -0.02181818]\n",
      " [ 0.13454545 -0.03272727 -0.02909091]\n",
      " [ 0.05090909 -0.17454545  0.17818182]]\n"
     ]
    }
   ],
   "source": [
    "#8\n",
    "a = np.random.randint(1, 11, size=(3, 3))\n",
    "a_inv = np.linalg.inv(a)\n",
    "print(a)\n",
    "print(a_inv)"
   ]
  },
  {
   "cell_type": "code",
   "execution_count": 11,
   "metadata": {},
   "outputs": [
    {
     "name": "stdout",
     "output_type": "stream",
     "text": [
      "[[ 2  9 10  5]\n",
      " [ 3  1  4  9]\n",
      " [ 7  2  2  3]\n",
      " [ 1  8  4  2]]\n",
      "[[ 2  3  7  1]\n",
      " [ 9  1  2  8]\n",
      " [10  4  2  4]\n",
      " [ 5  9  3  2]]\n"
     ]
    }
   ],
   "source": [
    "#9\n",
    "a = np.random.randint(1, 11, size=(4, 4))\n",
    "print(a)\n",
    "print(a.T)"
   ]
  },
  {
   "cell_type": "code",
   "execution_count": 12,
   "metadata": {},
   "outputs": [
    {
     "name": "stdout",
     "output_type": "stream",
     "text": [
      "[[ 2  9 10  7]\n",
      " [ 3  3  4  3]\n",
      " [10  4  2  9]]\n",
      "[ 1 10  8  6]\n",
      "[[ 2 90 80 42]\n",
      " [ 3 30 32 18]\n",
      " [10 40 16 54]]\n"
     ]
    }
   ],
   "source": [
    "#10\n",
    "a = np.random.randint(1, 11, size=(3, 4))\n",
    "b = np.random.randint(1, 11, size=(4))\n",
    "print(a)\n",
    "print(b)\n",
    "print(a * b)"
   ]
  },
  {
   "cell_type": "code",
   "execution_count": 13,
   "metadata": {},
   "outputs": [
    {
     "name": "stdout",
     "output_type": "stream",
     "text": [
      "[[0.88902304 0.17727239 0.10803443]\n",
      " [0.18322263 0.02756769 0.69577784]]\n",
      "[0.9130877  0.40445017 0.49629044]\n",
      "[[0.811756   0.07169785 0.05361646]\n",
      " [0.16729833 0.01114976 0.34530789]]\n"
     ]
    }
   ],
   "source": [
    "#11\n",
    "a = np.random.uniform(low=0.0, high=1.0, size=(2, 3))\n",
    "b = np.random.uniform(low=0.0, high=1.0, size=(3))\n",
    "print(a)\n",
    "print(b)\n",
    "print(a * b)"
   ]
  },
  {
   "cell_type": "code",
   "execution_count": 14,
   "metadata": {},
   "outputs": [
    {
     "name": "stdout",
     "output_type": "stream",
     "text": [
      "[[2 6]\n",
      " [5 7]]\n",
      "[[ 6  6]\n",
      " [ 9 10]]\n",
      "[[12 36]\n",
      " [45 70]]\n"
     ]
    }
   ],
   "source": [
    "#12\n",
    "a = np.random.randint(1, 11, size=(2, 2))\n",
    "b = np.random.randint(1, 11, size=(2, 2))\n",
    "print(a)\n",
    "print(b)\n",
    "print(a * b)"
   ]
  },
  {
   "cell_type": "code",
   "execution_count": 15,
   "metadata": {},
   "outputs": [
    {
     "name": "stdout",
     "output_type": "stream",
     "text": [
      "[[7 1]\n",
      " [5 3]]\n",
      "[[4 5]\n",
      " [8 2]]\n",
      "[[36 37]\n",
      " [44 31]]\n"
     ]
    }
   ],
   "source": [
    "#13\n",
    "a = np.random.randint(1, 11, size=(2, 2))\n",
    "b = np.random.randint(1, 11, size=(2, 2))\n",
    "print(a)\n",
    "print(b)\n",
    "print(np.dot(a, b))"
   ]
  },
  {
   "cell_type": "code",
   "execution_count": 16,
   "metadata": {},
   "outputs": [
    {
     "name": "stdout",
     "output_type": "stream",
     "text": [
      "[[96 24 71 93 43]\n",
      " [87 64 37 32 23]\n",
      " [29 88 28 57 71]\n",
      " [46 94 41 60 63]\n",
      " [56 93 57 78 57]]\n",
      "1488\n"
     ]
    }
   ],
   "source": [
    "#14\n",
    "a = np.random.randint(1, 101, size=(5, 5))\n",
    "print(a)\n",
    "print(a.sum())"
   ]
  },
  {
   "cell_type": "code",
   "execution_count": 17,
   "metadata": {},
   "outputs": [
    {
     "name": "stdout",
     "output_type": "stream",
     "text": [
      "[[10  3  7  4]\n",
      " [ 2  3  3 10]\n",
      " [ 6  6  9  9]\n",
      " [ 9  7  5 10]]\n",
      "[[ 7  4  7  3]\n",
      " [ 9  8  6  7]\n",
      " [ 7  2  8 10]\n",
      " [ 2 10  2  2]]\n",
      "[[ 3 -1  0  1]\n",
      " [-7 -5 -3  3]\n",
      " [-1  4  1 -1]\n",
      " [ 7 -3  3  8]]\n"
     ]
    }
   ],
   "source": [
    "#15\n",
    "a = np.random.randint(1, 11, size=(4, 4))\n",
    "b = np.random.randint(1, 11, size=(4, 4))\n",
    "print(a)\n",
    "print(b)\n",
    "print(a - b)"
   ]
  },
  {
   "cell_type": "code",
   "execution_count": 23,
   "metadata": {},
   "outputs": [
    {
     "name": "stdout",
     "output_type": "stream",
     "text": [
      "[[0.50613486 0.74712159 0.34470945]\n",
      " [0.58693206 0.94316568 0.85095401]\n",
      " [0.27929105 0.22751845 0.04508861]]\n",
      "[[1.5979659 ]\n",
      " [2.38105175]\n",
      " [0.55189811]]\n"
     ]
    }
   ],
   "source": [
    "#16\n",
    "a = np.random.uniform(low=0.0, high=1.0, size=(3, 3))\n",
    "print(a)\n",
    "b = np.array([sum(a[0, :3]), sum(a[1, :3]), sum(a[2, :3])])\n",
    "print(b.reshape((3, 1)))"
   ]
  },
  {
   "cell_type": "code",
   "execution_count": 19,
   "metadata": {},
   "outputs": [
    {
     "name": "stdout",
     "output_type": "stream",
     "text": [
      "[[  3   0  -8   0]\n",
      " [ 10  -5   7   4]\n",
      " [ -4   9 -11   1]]\n",
      "[[  9   0  64   0]\n",
      " [100  25  49  16]\n",
      " [ 16  81 121   1]]\n"
     ]
    }
   ],
   "source": [
    "#17\n",
    "a = np.random.randint(-11, 11, size=(3, 4))\n",
    "print(a)\n",
    "print(np.square(a))\n"
   ]
  },
  {
   "cell_type": "code",
   "execution_count": 20,
   "metadata": {},
   "outputs": [
    {
     "name": "stdout",
     "output_type": "stream",
     "text": [
      "[10 25 17 20]\n",
      "[3.16227766 5.         4.12310563 4.47213595]\n"
     ]
    }
   ],
   "source": [
    "#18\n",
    "a = np.random.randint(1, 51, size=(4))\n",
    "print(a)\n",
    "print(np.sqrt(a))"
   ]
  }
 ],
 "metadata": {
  "kernelspec": {
   "display_name": "Python 3",
   "language": "python",
   "name": "python3"
  },
  "language_info": {
   "codemirror_mode": {
    "name": "ipython",
    "version": 3
   },
   "file_extension": ".py",
   "mimetype": "text/x-python",
   "name": "python",
   "nbconvert_exporter": "python",
   "pygments_lexer": "ipython3",
   "version": "3.10.6"
  },
  "orig_nbformat": 4
 },
 "nbformat": 4,
 "nbformat_minor": 2
}
